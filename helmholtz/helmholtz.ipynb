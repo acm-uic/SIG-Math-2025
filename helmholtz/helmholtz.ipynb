{
 "cells": [
  {
   "cell_type": "markdown",
   "id": "34c691e8",
   "metadata": {},
   "source": [
    "# Helmholtz equation\n",
    "\n",
    "This notebook we will implement a PINN solver and benchmark for the [Helmholtz equation](https://en.wikipedia.org/wiki/Helmholtz_equation) in 2D which has the form \n",
    "$$\n",
    "    \\frac{\\partial^2 u}{\\partial x^2} + \\frac{\\partial^2 u}{\\partial y^2} + k^2 u = f(x,y)\n",
    "$$\n",
    "in particular, for the benchmarking, we will need a closed-form solution, therefore (based on the grace of the internet), there is a well-known one in the case of\n",
    "- $k=1$\n",
    "- $f(x,y) =  -\\pi^2 \\sin(\\pi x) \\sin(4\\pi y) - (4\\pi)^2 \\sin(\\pi x) \\sin(4 \\pi y) + \\sin(\\pi x) \\sin(4\\pi y)$\n",
    "\n",
    "posed on the spatial domain $(x,y) \\in [-1,1] \\times [-1,1]$ which subjected to the zero boundary condition meaning\n",
    "$$\n",
    "    u(-1,y) = u(1,y) = u(x,-1) = u(x,1) = 0\n",
    "$$\n",
    "we can derive that the analytical solution is of the form\n",
    "$$\n",
    "    u(x,y) = \\sin(\\pi x)\\sin(4 \\pi y)\n",
    "$$"
   ]
  },
  {
   "cell_type": "code",
   "execution_count": null,
   "id": "7ef4efb1",
   "metadata": {},
   "outputs": [],
   "source": [
    "# Imports\n",
    "import torch\n",
    "import torch.nn as nn\n",
    "import torch.optim as optim\n",
    "import numpy as np\n",
    "import matplotlib.pyplot as plt\n",
    "import sys\n",
    "import os"
   ]
  },
  {
   "cell_type": "code",
   "execution_count": 2,
   "id": "ce74e0c3",
   "metadata": {},
   "outputs": [],
   "source": [
    "# We will first implement the analytical solution function using PyTorch API since we will need the computation to be done on GPU if possible\n",
    "def analytical_solution():\n",
    "    pass   # TODO"
   ]
  },
  {
   "cell_type": "code",
   "execution_count": 3,
   "id": "f0ac17b0",
   "metadata": {},
   "outputs": [],
   "source": [
    "# TODO: Implement the domain of the problem (you can abstract and this simple by just given the endpoints)"
   ]
  },
  {
   "cell_type": "code",
   "execution_count": 4,
   "id": "d7493183",
   "metadata": {},
   "outputs": [],
   "source": [
    "# TODO: Design a PINN that can solve the Helmholtz PDE (you can either write the whole model in the notebook or define the model in another file.)"
   ]
  },
  {
   "cell_type": "code",
   "execution_count": null,
   "id": "6e1ff077",
   "metadata": {},
   "outputs": [],
   "source": [
    "# TODO: Define how the model would be trained and of course, train it \n",
    "# - Make sure to implement checkpointing to ensure that you can achieve the lowest loss possible"
   ]
  },
  {
   "cell_type": "code",
   "execution_count": null,
   "id": "1c5e3f67",
   "metadata": {},
   "outputs": [],
   "source": [
    "# TODO: Once the \"best\" model is trained, you can benchmark it with the aforementioned analytical solution"
   ]
  }
 ],
 "metadata": {
  "kernelspec": {
   "display_name": "Python 3",
   "language": "python",
   "name": "python3"
  },
  "language_info": {
   "codemirror_mode": {
    "name": "ipython",
    "version": 3
   },
   "file_extension": ".py",
   "mimetype": "text/x-python",
   "name": "python",
   "nbconvert_exporter": "python",
   "pygments_lexer": "ipython3",
   "version": "3.12.2"
  }
 },
 "nbformat": 4,
 "nbformat_minor": 5
}
